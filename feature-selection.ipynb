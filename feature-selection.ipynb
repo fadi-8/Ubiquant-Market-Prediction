{
 "cells": [
  {
   "cell_type": "markdown",
   "id": "b1f7b6f0",
   "metadata": {
    "papermill": {
     "duration": 0.02223,
     "end_time": "2022-04-14T06:47:01.309424",
     "exception": false,
     "start_time": "2022-04-14T06:47:01.287194",
     "status": "completed"
    },
    "tags": []
   },
   "source": [
    "<h1>Importing The Packages</h1>"
   ]
  },
  {
   "cell_type": "code",
   "execution_count": 1,
   "id": "68c105a3",
   "metadata": {
    "execution": {
     "iopub.execute_input": "2022-04-14T06:47:01.356125Z",
     "iopub.status.busy": "2022-04-14T06:47:01.354901Z",
     "iopub.status.idle": "2022-04-14T06:47:08.410188Z",
     "shell.execute_reply": "2022-04-14T06:47:08.410734Z",
     "shell.execute_reply.started": "2022-04-13T18:00:33.198711Z"
    },
    "papermill": {
     "duration": 7.080295,
     "end_time": "2022-04-14T06:47:08.411061",
     "exception": false,
     "start_time": "2022-04-14T06:47:01.330766",
     "status": "completed"
    },
    "tags": []
   },
   "outputs": [],
   "source": [
    "import numpy as np\n",
    "#import jax.numpy as npx\n",
    "#import jax.random as randomx\n",
    "import pandas as pd\n",
    "# from dask import dataframe\n",
    "import os\n",
    "import time\n",
    "# import seaborn as sns\n",
    "# import matplotlib.pyplot as plt\n",
    "# from matplotlib import rcParams\n",
    "# from sklearn.linear_model import LinearRegression\n",
    "# from sklearn.metrics import r2_score\n",
    "import tensorflow as tf\n",
    "import tensorflow.keras as keras\n",
    "# from sklearn.svm import SVR\n",
    "from sklearn.model_selection import GridSearchCV\n",
    "from sklearn.metrics import mean_squared_error\n",
    "from sklearn.svm import SVR\n",
    "from sklearn.ensemble import RandomForestRegressor\n",
    "from sklearn.feature_selection import RFE\n",
    "from sklearn.cluster import DBSCAN,KMeans\n",
    "import boruta"
   ]
  },
  {
   "cell_type": "markdown",
   "id": "3445d762",
   "metadata": {
    "papermill": {
     "duration": 0.020444,
     "end_time": "2022-04-14T06:47:08.452915",
     "exception": false,
     "start_time": "2022-04-14T06:47:08.432471",
     "status": "completed"
    },
    "tags": []
   },
   "source": [
    "<h1>Get The Data</h1>\n",
    "\n",
    "<h4>I'm treating each investment ID as an investment on a specific company. Thus, Analyse each time series alone.<br/>\n",
    "Loading the data takes around 5 mins</h4>"
   ]
  },
  {
   "cell_type": "code",
   "execution_count": 2,
   "id": "49e50355",
   "metadata": {
    "execution": {
     "iopub.execute_input": "2022-04-14T06:47:08.497638Z",
     "iopub.status.busy": "2022-04-14T06:47:08.497013Z",
     "iopub.status.idle": "2022-04-14T06:47:48.582549Z",
     "shell.execute_reply": "2022-04-14T06:47:48.583182Z",
     "shell.execute_reply.started": "2022-04-13T18:00:40.616421Z"
    },
    "papermill": {
     "duration": 40.10989,
     "end_time": "2022-04-14T06:47:48.583544",
     "exception": false,
     "start_time": "2022-04-14T06:47:08.473654",
     "status": "completed"
    },
    "tags": []
   },
   "outputs": [
    {
     "name": "stdout",
     "output_type": "stream",
     "text": [
      "finished reading the data\n",
      "It took 40.050556898117065 seconds\n"
     ]
    }
   ],
   "source": [
    "t0=time.time()\n",
    "\n",
    "# dtypes = {\n",
    "#     'row_id': 'str',\n",
    "#     'time_id': 'uint16',\n",
    "#     'investment_id': 'uint32',\n",
    "#     'target': 'float32',\n",
    "# }\n",
    "\n",
    "# for i in range(300):\n",
    "#     dtypes[f'f_{i}'] = 'float32'\n",
    "\n",
    "train_df = pd.read_parquet('../input/ubiquant-parquet/train_low_mem.parquet')#,usecols=list(dtypes.keys()),dtype=dtypes)\n",
    "\n",
    "# sup_train_df=pd.read_csv('../input/ubiquant-market-prediction/supplemental_train.csv',usecols=list(dtypes.keys()),dtype=dtypes)\n",
    "\n",
    "# data_df=pd.concat((train_df,sup_train_df))\n",
    "\n",
    "# data_df=data_df[data_df['time_id']>600]\n",
    "\n",
    "print('finished reading the data')\n",
    "\n",
    "print(f'It took {time.time()-t0} seconds')"
   ]
  },
  {
   "cell_type": "code",
   "execution_count": 3,
   "id": "4f42becd",
   "metadata": {
    "execution": {
     "iopub.execute_input": "2022-04-14T06:47:48.631606Z",
     "iopub.status.busy": "2022-04-14T06:47:48.629589Z",
     "iopub.status.idle": "2022-04-14T06:47:48.634124Z",
     "shell.execute_reply": "2022-04-14T06:47:48.633606Z"
    },
    "papermill": {
     "duration": 0.029434,
     "end_time": "2022-04-14T06:47:48.634273",
     "exception": false,
     "start_time": "2022-04-14T06:47:48.604839",
     "status": "completed"
    },
    "tags": []
   },
   "outputs": [],
   "source": [
    "# clustering = KMeans(n_clusters=10,random_state=1,verbose=2)#(eps=5, min_samples=1000,n_jobs=-1)\n",
    "# clustering.fit(train_df.drop(columns=['row_id','investment_id','time_id']))"
   ]
  },
  {
   "cell_type": "code",
   "execution_count": 4,
   "id": "3742d048",
   "metadata": {
    "execution": {
     "iopub.execute_input": "2022-04-14T06:47:48.680696Z",
     "iopub.status.busy": "2022-04-14T06:47:48.680094Z",
     "iopub.status.idle": "2022-04-14T06:47:48.683449Z",
     "shell.execute_reply": "2022-04-14T06:47:48.684039Z"
    },
    "papermill": {
     "duration": 0.028316,
     "end_time": "2022-04-14T06:47:48.684197",
     "exception": false,
     "start_time": "2022-04-14T06:47:48.655881",
     "status": "completed"
    },
    "tags": []
   },
   "outputs": [],
   "source": [
    "# np.unique(clustering.labels_)"
   ]
  },
  {
   "cell_type": "code",
   "execution_count": 5,
   "id": "1706b395",
   "metadata": {
    "execution": {
     "iopub.execute_input": "2022-04-14T06:47:48.732130Z",
     "iopub.status.busy": "2022-04-14T06:47:48.731487Z",
     "iopub.status.idle": "2022-04-14T06:47:48.734197Z",
     "shell.execute_reply": "2022-04-14T06:47:48.734785Z"
    },
    "papermill": {
     "duration": 0.028583,
     "end_time": "2022-04-14T06:47:48.734944",
     "exception": false,
     "start_time": "2022-04-14T06:47:48.706361",
     "status": "completed"
    },
    "tags": []
   },
   "outputs": [],
   "source": [
    "# clustering.cluster_centers_"
   ]
  },
  {
   "cell_type": "code",
   "execution_count": 6,
   "id": "7cbf4191",
   "metadata": {
    "execution": {
     "iopub.execute_input": "2022-04-14T06:47:48.781667Z",
     "iopub.status.busy": "2022-04-14T06:47:48.781028Z",
     "iopub.status.idle": "2022-04-14T06:47:48.894391Z",
     "shell.execute_reply": "2022-04-14T06:47:48.893701Z",
     "shell.execute_reply.started": "2022-04-13T18:01:20.187854Z"
    },
    "papermill": {
     "duration": 0.137986,
     "end_time": "2022-04-14T06:47:48.894530",
     "exception": false,
     "start_time": "2022-04-14T06:47:48.756544",
     "status": "completed"
    },
    "tags": []
   },
   "outputs": [],
   "source": [
    "MAX_TIME=train_df['time_id'].max()\n",
    "del train_df"
   ]
  },
  {
   "cell_type": "code",
   "execution_count": 7,
   "id": "bd8a2eb4",
   "metadata": {
    "execution": {
     "iopub.execute_input": "2022-04-14T06:47:48.945329Z",
     "iopub.status.busy": "2022-04-14T06:47:48.944537Z",
     "iopub.status.idle": "2022-04-14T06:47:48.947127Z",
     "shell.execute_reply": "2022-04-14T06:47:48.946517Z"
    },
    "papermill": {
     "duration": 0.029633,
     "end_time": "2022-04-14T06:47:48.947267",
     "exception": false,
     "start_time": "2022-04-14T06:47:48.917634",
     "status": "completed"
    },
    "tags": []
   },
   "outputs": [],
   "source": [
    "# n_bins=12\n",
    "\n",
    "# if n_bins>0:\n",
    "#     cuts,bins=pd.qcut(train_df['target'],n_bins,labels=[i for i in range(n_bins)],retbins=True)\n",
    "#     cat_target_column='cat target'\n",
    "#     train_df[cat_target_column]=cuts.astype(np.int8)\n",
    "    \n",
    "#     category_stats={}\n",
    "#     for cat_target, group in train_df.groupby(cat_target_column):\n",
    "#         category_stats[cat_target]={}\n",
    "#         category_stats[cat_target]['mean']=group[\"target\"].mean()\n",
    "#         category_stats[cat_target]['median']=group[\"target\"].median()\n",
    "#         category_stats[cat_target]['std']=group[\"target\"].std()"
   ]
  },
  {
   "cell_type": "code",
   "execution_count": 8,
   "id": "41a4c6c9",
   "metadata": {
    "execution": {
     "iopub.execute_input": "2022-04-14T06:47:49.006296Z",
     "iopub.status.busy": "2022-04-14T06:47:49.005554Z",
     "iopub.status.idle": "2022-04-14T06:47:49.916996Z",
     "shell.execute_reply": "2022-04-14T06:47:49.917905Z",
     "shell.execute_reply.started": "2022-04-13T18:17:21.920041Z"
    },
    "papermill": {
     "duration": 0.948177,
     "end_time": "2022-04-14T06:47:49.918114",
     "exception": false,
     "start_time": "2022-04-14T06:47:48.969937",
     "status": "completed"
    },
    "tags": []
   },
   "outputs": [],
   "source": [
    "investment_files=[]\n",
    "investment_path='../input/ubiquant-parquet/investment_ids'\n",
    "for path, directory, files in os.walk(investment_path):\n",
    "    investment_files=files"
   ]
  },
  {
   "cell_type": "code",
   "execution_count": 9,
   "id": "30674019",
   "metadata": {
    "execution": {
     "iopub.execute_input": "2022-04-14T06:47:49.965272Z",
     "iopub.status.busy": "2022-04-14T06:47:49.964616Z",
     "iopub.status.idle": "2022-04-14T06:47:49.967830Z",
     "shell.execute_reply": "2022-04-14T06:47:49.968374Z",
     "shell.execute_reply.started": "2022-04-13T17:00:55.610453Z"
    },
    "papermill": {
     "duration": 0.028424,
     "end_time": "2022-04-14T06:47:49.968536",
     "exception": false,
     "start_time": "2022-04-14T06:47:49.940112",
     "status": "completed"
    },
    "tags": []
   },
   "outputs": [],
   "source": [
    "current_time=time.time()\n",
    "hrs_to_run=3"
   ]
  },
  {
   "cell_type": "markdown",
   "id": "46d51d7b",
   "metadata": {
    "papermill": {
     "duration": 0.02525,
     "end_time": "2022-04-14T06:47:50.015698",
     "exception": false,
     "start_time": "2022-04-14T06:47:49.990448",
     "status": "completed"
    },
    "tags": []
   },
   "source": [
    "<h1>Add Lags to the Data</h1>"
   ]
  },
  {
   "cell_type": "code",
   "execution_count": 10,
   "id": "53bcee46",
   "metadata": {
    "execution": {
     "iopub.execute_input": "2022-04-14T06:47:50.064816Z",
     "iopub.status.busy": "2022-04-14T06:47:50.064127Z",
     "iopub.status.idle": "2022-04-14T06:47:50.218000Z",
     "shell.execute_reply": "2022-04-14T06:47:50.218732Z"
    },
    "papermill": {
     "duration": 0.180987,
     "end_time": "2022-04-14T06:47:50.219000",
     "exception": false,
     "start_time": "2022-04-14T06:47:50.038013",
     "status": "completed"
    },
    "tags": []
   },
   "outputs": [],
   "source": [
    "train_df_lags=pd.DataFrame()\n",
    "n_lags=10\n",
    "\n",
    "calculate_lags=False\n",
    "\n",
    "if calculate_lags:\n",
    "    iteration=0\n",
    "    for file_name in investment_files:\n",
    "        path=os.path.join(investment_path,file_name)\n",
    "        df=pd.read_parquet(path)\n",
    "\n",
    "    #     print(len(df))\n",
    "        df=df.sort_values(by='time_id')\n",
    "\n",
    "        time_ids=df['time_id'].unique()\n",
    "        time_min=np.min(time_ids)\n",
    "        time_max=np.max(time_ids)\n",
    "\n",
    "        #fill any missing IDs\n",
    "        n_missing=0\n",
    "        for i in range(time_min,time_max+1):\n",
    "            if i not in time_ids:\n",
    "                n_missing+=1\n",
    "                df.loc[-i,['time_id']]=i\n",
    "\n",
    "    #     if n_missing>0:\n",
    "    #         print(f'there are {n_missing} missing time IDs between {time_min} and {time_max}')\n",
    "\n",
    "        df['target']=df['target'].fillna(0)\n",
    "\n",
    "        for shift in range(1,n_lags+1):\n",
    "            df[f'lag {shift}']=df['target'].shift(shift).fillna(0)\n",
    "\n",
    "        df=df.dropna()\n",
    "    #     print(len(df))\n",
    "        train_df_lags=pd.concat([train_df_lags,df])\n",
    "\n",
    "        del df\n",
    "\n",
    "        iteration+=1\n",
    "\n",
    "        if iteration / 100 == int(iteration // 100):\n",
    "            print(f'{iteration}th stock was processed')\n",
    "\n",
    "    train_df_lags.to_parquet('train_df_lags.parquet')\n",
    "\n",
    "    del train_df_lags"
   ]
  },
  {
   "cell_type": "code",
   "execution_count": 11,
   "id": "7650a0fb",
   "metadata": {
    "execution": {
     "iopub.execute_input": "2022-04-14T06:47:50.272122Z",
     "iopub.status.busy": "2022-04-14T06:47:50.271154Z",
     "iopub.status.idle": "2022-04-14T06:48:11.615070Z",
     "shell.execute_reply": "2022-04-14T06:48:11.615693Z"
    },
    "papermill": {
     "duration": 21.370916,
     "end_time": "2022-04-14T06:48:11.615908",
     "exception": false,
     "start_time": "2022-04-14T06:47:50.244992",
     "status": "completed"
    },
    "tags": []
   },
   "outputs": [
    {
     "data": {
      "text/plain": [
       "3141410"
      ]
     },
     "execution_count": 11,
     "metadata": {},
     "output_type": "execute_result"
    }
   ],
   "source": [
    "train_df = pd.read_parquet('../input/ubiquant-parquet/train_low_mem.parquet')#,usecols=list(dtypes.keys()),dtype=dtypes)\n",
    "len(train_df)"
   ]
  },
  {
   "cell_type": "markdown",
   "id": "f5594c1a",
   "metadata": {
    "papermill": {
     "duration": 0.022756,
     "end_time": "2022-04-14T06:48:11.667021",
     "exception": false,
     "start_time": "2022-04-14T06:48:11.644265",
     "status": "completed"
    },
    "tags": []
   },
   "source": [
    "<h1>BORUTA</h1>"
   ]
  },
  {
   "cell_type": "code",
   "execution_count": 12,
   "id": "f991fd1d",
   "metadata": {
    "execution": {
     "iopub.execute_input": "2022-04-14T06:48:11.723169Z",
     "iopub.status.busy": "2022-04-14T06:48:11.722121Z",
     "iopub.status.idle": "2022-04-14T10:00:03.904488Z",
     "shell.execute_reply": "2022-04-14T10:00:03.905337Z",
     "shell.execute_reply.started": "2022-04-13T17:01:57.278104Z"
    },
    "papermill": {
     "duration": 11512.217368,
     "end_time": "2022-04-14T10:00:03.906647",
     "exception": false,
     "start_time": "2022-04-14T06:48:11.689279",
     "status": "completed"
    },
    "tags": []
   },
   "outputs": [
    {
     "name": "stdout",
     "output_type": "stream",
     "text": [
      "generated new DataFrame\n",
      "finished\n"
     ]
    }
   ],
   "source": [
    "window=40#240\n",
    "validation_window=240\n",
    "\n",
    "scratch=True\n",
    "\n",
    "#After feature selection i ill train during this time coefficients and then see the performance\n",
    "#boost on the validation window.\n",
    "end_time=MAX_TIME-validation_window\n",
    "start_time=end_time-window\n",
    "\n",
    "model=RandomForestRegressor(max_depth=100,max_leaf_nodes=12,max_samples=0.7,n_jobs=-1)\n",
    "\n",
    "features=[f'f_{i}' for i in range(300)]\n",
    "\n",
    "if (not scratch) and os.path.isfile('../input/ubiquant-feature-selection/boruta_features.csv'):\n",
    "    # I have to change this filename to the data input location of the new dataset that i will add.\n",
    "    print('read the present file')\n",
    "    features_csv=pd.read_csv('../input/ubiquant-feature-selection/boruta_features.csv')\n",
    "    i=len(features_csv)\n",
    "else:\n",
    "    print('generated new DataFrame')\n",
    "    features_csv=pd.DataFrame(columns=['investment_id']+features)\n",
    "    i=0\n",
    "\n",
    "for file in investment_files:\n",
    "    investment_id=file.split('.')[0]\n",
    "    \n",
    "    path=os.path.join(investment_path,file)\n",
    "    train_df=pd.read_parquet(path)\n",
    "    \n",
    "    if int(investment_id) in features_csv['investment_id'].values.astype(int):\n",
    "        print(investment_id,' skipped')\n",
    "        continue\n",
    "    \n",
    "    #get the Data\n",
    "#     X_train=train_df[(train_df['time_id']>=start_time) & (train_df['time_id']<=end_time)].fillna(0)#(train_df['time_id']>=start_time) & \n",
    "#     X_val=train_df[train_df['time_id']>end_time]\n",
    "    X_train=train_df\n",
    "    y_train=X_train['target'].values\n",
    "#     y_val=X_val['target'].values\n",
    "#     investment_ids_values_train=X_train['investment_id'].values.reshape(-1,1)\n",
    "    X_train=X_train[features].values\n",
    "#     X_val=X_val[features].values\n",
    "    \n",
    "#     print('started fitting the model')\n",
    "    # Train the model\n",
    "    model.fit(X_train,y_train)\n",
    "#     print('finished fitting the model')\n",
    "    \n",
    "#     print('predict X_val')\n",
    "#     y_pred=model.predict(X_val)\n",
    "#     print('finished prediction')\n",
    "    \n",
    "#     MSE=mean_squared_error(y_val,y_pred)\n",
    "    \n",
    "#     print('MSE: ',MSE)\n",
    "    # define Boruta feature selection method\n",
    "    feat_selector = boruta.BorutaPy(model, max_iter=50 ,verbose=0, random_state=1)\n",
    "    \n",
    "#     print('started feature selection')\n",
    "    # find all relevant features\n",
    "    feat_selector.fit(X_train, y_train)\n",
    "#     print('finished feature selection')\n",
    "    \n",
    "#     X_train=feat_selector.transform(X_train)\n",
    "    \n",
    "#     model.fit(X_train,y_train)\n",
    "    \n",
    "#     X_val=feat_selector.transform(X_val)\n",
    "#     print('predict X_val')\n",
    "#     y_pred=model.predict(X_val)\n",
    "#     print('finished prediction')\n",
    "    \n",
    "#     MSE=mean_squared_error(y_val,y_pred)\n",
    "    \n",
    "#     print('after MSE: ',MSE)\n",
    "    \n",
    "    # check selected features\n",
    "#     print(feat_selector.support_)\n",
    "    \n",
    "    features_csv.loc[i,['investment_id']]=int(investment_id)\n",
    "    if True not in feat_selector.support_:\n",
    "        features_csv.loc[i,features]=[1]*len(feat_selector.support_)\n",
    "    else:\n",
    "        features_csv.loc[i,features]=list(map(int,feat_selector.support_))\n",
    "    \n",
    "    i+=1\n",
    "\n",
    "    # check ranking of features\n",
    "    #print(feat_selector.ranking_)\n",
    "    \n",
    "    if (time.time()-current_time) > hrs_to_run*60*60:# after 8 hrs save the progress and leave.\n",
    "        features_csv.to_csv('boruta_features.csv')\n",
    "        break\n",
    "        \n",
    "    del train_df\n",
    "\n",
    "features_csv.to_csv('boruta_features.csv')\n",
    "print('finished')"
   ]
  },
  {
   "cell_type": "markdown",
   "id": "8efe2ca2",
   "metadata": {
    "papermill": {
     "duration": 0.029528,
     "end_time": "2022-04-14T10:00:03.961835",
     "exception": false,
     "start_time": "2022-04-14T10:00:03.932307",
     "status": "completed"
    },
    "tags": []
   },
   "source": [
    "<h1>RFE</h1>"
   ]
  },
  {
   "cell_type": "code",
   "execution_count": 13,
   "id": "e237a17a",
   "metadata": {
    "execution": {
     "iopub.execute_input": "2022-04-14T10:00:04.075209Z",
     "iopub.status.busy": "2022-04-14T10:00:04.074057Z",
     "iopub.status.idle": "2022-04-14T10:00:04.093689Z",
     "shell.execute_reply": "2022-04-14T10:00:04.094289Z",
     "shell.execute_reply.started": "2022-04-10T13:40:00.712665Z"
    },
    "papermill": {
     "duration": 0.095761,
     "end_time": "2022-04-14T10:00:04.094465",
     "exception": false,
     "start_time": "2022-04-14T10:00:03.998704",
     "status": "completed"
    },
    "tags": []
   },
   "outputs": [
    {
     "name": "stdout",
     "output_type": "stream",
     "text": [
      "finished\n"
     ]
    }
   ],
   "source": [
    "window=40#240\n",
    "validation_window=240\n",
    "\n",
    "#After feature selection i ill train during this time coefficients and then see the performance\n",
    "#boost on the validation window.\n",
    "end_time=MAX_TIME-validation_window\n",
    "start_time=end_time-window\n",
    "\n",
    "model=RandomForestRegressor(max_depth=100,max_leaf_nodes=12)\n",
    "\n",
    "features=[f'f_{i}' for i in range(300)]\n",
    "\n",
    "if os.path.isfile('rfe_features.csv'):\n",
    "    # I have to change this filename to the data input location of the new dataset that i will add.\n",
    "    features_csv=pd.read_csv('rfe_features.csv')\n",
    "else:\n",
    "    features_csv=pd.DataFrame(columns=['investment_id']+features)\n",
    "\n",
    "i=0\n",
    "for file in investment_files:\n",
    "    \n",
    "    if (time.time()-current_time)> hrs_to_run*60*60:# after 8 hrs save the progress and leave.\n",
    "        features_csv.to_csv('rfe_features.csv')\n",
    "        break\n",
    "    \n",
    "    investment_id=file.split('.')[0]\n",
    "    \n",
    "    path=os.path.join(investment_path,file)\n",
    "    train_df=pd.read_parquet(path)\n",
    "    \n",
    "    if int(investment_id) in features_csv['investment_id'].values.astype(int):\n",
    "        print(investment_id,' skipped')\n",
    "        continue\n",
    "    \n",
    "    #get the Data\n",
    "    X_train=train_df[(train_df['time_id']>=start_time) & (train_df['time_id']<=end_time)].fillna(0)#(train_df['time_id']>=start_time) & \n",
    "    X_val=train_df[train_df['time_id']>end_time]\n",
    "    print(len(X_train))\n",
    "    \n",
    "    #X_train=train_df\n",
    "    y_train=X_train['target'].values\n",
    "    y_val=X_val['target'].values\n",
    "    investment_ids_values_train=X_train['investment_id'].values.reshape(-1,1)\n",
    "    X_train=X_train[features].values\n",
    "    X_val=X_val[features].values\n",
    "    \n",
    "    if len(X_train)==0:\n",
    "        continue\n",
    "    print('started fitting the model')\n",
    "    # Train the model\n",
    "    model.fit(X_train,y_train)\n",
    "    print('finished fitting the model')\n",
    "    \n",
    "    print('predict X_val')\n",
    "    y_pred=model.predict(X_val)\n",
    "    print('finished prediction')\n",
    "    \n",
    "    MSE=mean_squared_error(y_val,y_pred)\n",
    "    \n",
    "    print('MSE: ',MSE)\n",
    "    # define Boruta feature selection method\n",
    "    feat_selector = RFE(model, n_features_to_select=0.2, step=1)\n",
    "    \n",
    "    print('started feature selection')\n",
    "    # find all relevant features\n",
    "    feat_selector.fit(X_train, y_train)\n",
    "    print('finished feature selection')\n",
    "    \n",
    "    X_train=feat_selector.transform(X_train)\n",
    "    \n",
    "    model.fit(X_train,y_train)\n",
    "    \n",
    "    X_val=feat_selector.transform(X_val)\n",
    "    print('predict X_val')\n",
    "    y_pred=model.predict(X_val)\n",
    "    print('finished prediction')\n",
    "    \n",
    "    MSE=mean_squared_error(y_val,y_pred)\n",
    "    \n",
    "    print('after MSE: ',MSE)\n",
    "    \n",
    "#     check selected features\n",
    "    print(feat_selector.support_)\n",
    "    \n",
    "    features_csv.loc[i,['investment_id']]=investment_id\n",
    "    features_csv.loc[i,features]=list(map(int,feat_selector.support_))\n",
    "    \n",
    "    i+=1\n",
    "\n",
    "    # check ranking of features\n",
    "    #print(feat_selector.ranking_)\n",
    "    \n",
    "    if (time.time()-current_time)> 8*60*60:# after 8 hrs save the progress and leave.\n",
    "        features_csv.to_csv('rfe_features.csv')\n",
    "        break\n",
    "        \n",
    "    del train_df\n",
    "\n",
    "features_csv.to_csv('rfe_features.csv')\n",
    "print('finished')"
   ]
  },
  {
   "cell_type": "markdown",
   "id": "4989994a",
   "metadata": {
    "papermill": {
     "duration": 0.024368,
     "end_time": "2022-04-14T10:00:04.145296",
     "exception": false,
     "start_time": "2022-04-14T10:00:04.120928",
     "status": "completed"
    },
    "tags": []
   },
   "source": [
    "<h1>Auto encoder</h1>"
   ]
  },
  {
   "cell_type": "code",
   "execution_count": 14,
   "id": "27d4df40",
   "metadata": {
    "execution": {
     "iopub.execute_input": "2022-04-14T10:00:04.201430Z",
     "iopub.status.busy": "2022-04-14T10:00:04.200409Z",
     "iopub.status.idle": "2022-04-14T10:00:04.204160Z",
     "shell.execute_reply": "2022-04-14T10:00:04.204780Z",
     "shell.execute_reply.started": "2022-04-13T18:10:37.461328Z"
    },
    "papermill": {
     "duration": 0.03177,
     "end_time": "2022-04-14T10:00:04.204969",
     "exception": false,
     "start_time": "2022-04-14T10:00:04.173199",
     "status": "completed"
    },
    "tags": []
   },
   "outputs": [],
   "source": [
    "# train_df = pd.read_parquet('../input/ubiquant-parquet/train_low_mem.parquet')\n",
    "\n",
    "# features=train_df.columns[train_df.columns.map(lambda x: 'f' in x)]\n",
    "\n",
    "# window=120\n",
    "\n",
    "# X_train=train_df[(train_df['time_id']>MAX_TIME-window) & (train_df['time_id']<=MAX_TIME)]\n",
    "\n",
    "# del train_df\n",
    "\n",
    "# dropout_encoder = keras.models.Sequential([\n",
    "# keras.layers.Flatten(input_shape=[len(features)]),\n",
    "# keras.layers.Dropout(0.5),\n",
    "# keras.layers.Dense(100, activation=\"elu\"),\n",
    "# keras.layers.Dense(5)\n",
    "# ])\n",
    "# dropout_decoder = keras.models.Sequential([\n",
    "# keras.layers.Dense(100, activation=\"elu\", input_shape=[5]),\n",
    "# keras.layers.Dense(len(features))\n",
    "# ])\n",
    "# dropout_ae = keras.models.Sequential([dropout_encoder, dropout_decoder])"
   ]
  },
  {
   "cell_type": "code",
   "execution_count": 15,
   "id": "bb093306",
   "metadata": {
    "execution": {
     "iopub.execute_input": "2022-04-14T10:00:04.257813Z",
     "iopub.status.busy": "2022-04-14T10:00:04.256816Z",
     "iopub.status.idle": "2022-04-14T10:00:04.260183Z",
     "shell.execute_reply": "2022-04-14T10:00:04.259572Z",
     "shell.execute_reply.started": "2022-04-13T18:10:51.167085Z"
    },
    "papermill": {
     "duration": 0.031722,
     "end_time": "2022-04-14T10:00:04.260331",
     "exception": false,
     "start_time": "2022-04-14T10:00:04.228609",
     "status": "completed"
    },
    "tags": []
   },
   "outputs": [],
   "source": [
    "# dropout_ae.compile(loss=\"mae\",optimizer=keras.optimizers.Adam())\n",
    "# dropout_ae.fit(X_train[features].values, X_train[features].values, epochs=10)"
   ]
  },
  {
   "cell_type": "code",
   "execution_count": 16,
   "id": "6256184c",
   "metadata": {
    "execution": {
     "iopub.execute_input": "2022-04-14T10:00:04.312257Z",
     "iopub.status.busy": "2022-04-14T10:00:04.311220Z",
     "iopub.status.idle": "2022-04-14T10:00:04.316551Z",
     "shell.execute_reply": "2022-04-14T10:00:04.316013Z",
     "shell.execute_reply.started": "2022-04-13T18:25:55.024094Z"
    },
    "papermill": {
     "duration": 0.032618,
     "end_time": "2022-04-14T10:00:04.316685",
     "exception": false,
     "start_time": "2022-04-14T10:00:04.284067",
     "status": "completed"
    },
    "tags": []
   },
   "outputs": [],
   "source": [
    "# for file_name in investment_files:\n",
    "#     print(file_name)\n",
    "#     path=os.path.join(investment_path,file_name)\n",
    "#     df=pd.read_parquet(path)\n",
    "    \n",
    "#     dropout_encoder = keras.models.Sequential([\n",
    "#     keras.layers.Flatten(input_shape=[len(features)]),\n",
    "#     keras.layers.Dropout(0.5),\n",
    "#     keras.layers.Dense(100, activation=\"elu\"),\n",
    "#     keras.layers.Dense(300)\n",
    "#     ])\n",
    "#     dropout_decoder = keras.models.Sequential([\n",
    "#     keras.layers.Dense(100, activation=\"elu\", input_shape=[300]),\n",
    "#     keras.layers.Dense(len(features))\n",
    "#     ])\n",
    "#     dropout_ae = keras.models.Sequential([dropout_encoder, dropout_decoder])\n",
    "    \n",
    "#     dropout_ae.compile(loss=\"mae\",optimizer=keras.optimizers.Adam())\n",
    "#     dropout_ae.fit(X_train[features].values, X_train[features].values, epochs=20)\n",
    "    \n",
    "#     del df"
   ]
  },
  {
   "cell_type": "code",
   "execution_count": null,
   "id": "552501f6",
   "metadata": {
    "papermill": {
     "duration": 0.023247,
     "end_time": "2022-04-14T10:00:04.363582",
     "exception": false,
     "start_time": "2022-04-14T10:00:04.340335",
     "status": "completed"
    },
    "tags": []
   },
   "outputs": [],
   "source": []
  }
 ],
 "metadata": {
  "kernelspec": {
   "display_name": "Python 3",
   "language": "python",
   "name": "python3"
  },
  "language_info": {
   "codemirror_mode": {
    "name": "ipython",
    "version": 3
   },
   "file_extension": ".py",
   "mimetype": "text/x-python",
   "name": "python",
   "nbconvert_exporter": "python",
   "pygments_lexer": "ipython3",
   "version": "3.7.12"
  },
  "papermill": {
   "default_parameters": {},
   "duration": 11596.311205,
   "end_time": "2022-04-14T10:00:08.021497",
   "environment_variables": {},
   "exception": null,
   "input_path": "__notebook__.ipynb",
   "output_path": "__notebook__.ipynb",
   "parameters": {},
   "start_time": "2022-04-14T06:46:51.710292",
   "version": "2.3.3"
  }
 },
 "nbformat": 4,
 "nbformat_minor": 5
}
